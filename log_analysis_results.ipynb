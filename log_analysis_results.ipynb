{
 "cells": [
  {
   "cell_type": "code",
   "execution_count": 4,
   "id": "04c18eb3-1825-43c4-8732-357d7d6d07f6",
   "metadata": {},
   "outputs": [
    {
     "name": "stdout",
     "output_type": "stream",
     "text": [
      "IP Address           Request Count\n",
      "\"203.0.113.5         8\n",
      "\"198.51.100.23       8\n",
      "\"192.168.1.1         7\n",
      "\"10.0.0.2            6\n",
      "\"192.168.1.100       5\n",
      "\n",
      "Most Frequently Accessed Endpoint:\n",
      "/login (Accessed 13 times)\n",
      "\n",
      "Suspicious Activity Detected:\n",
      "IP Address           Failed Login Attempts\n"
     ]
    }
   ],
   "source": [
    "import csv\n",
    "from collections import defaultdict\n",
    "\n",
    "def analyze_log(log_file, threshold=10):\n",
    "    ip_requests = defaultdict(int)\n",
    "    endpoints = defaultdict(int)\n",
    "    failed_logins = defaultdict(int)\n",
    "    \n",
    "    with open(log_file, 'r') as file:\n",
    "        for line in file:\n",
    "            parts = line.split()\n",
    "            \n",
    "            ip = parts[0]\n",
    "            \n",
    "            endpoint = parts[6]\n",
    "            \n",
    "            status_code = parts[8]\n",
    "            \n",
    "            ip_requests[ip] += 1\n",
    "            \n",
    "            endpoints[endpoint] += 1\n",
    "            \n",
    "            if status_code == '401' or 'Invalid credentials' in line:\n",
    "                failed_logins[ip] += 1\n",
    "    \n",
    "    sorted_ip_requests = sorted(ip_requests.items(), key=lambda x: x[1], reverse=True)\n",
    "    most_accessed_endpoint = max(endpoints.items(), key=lambda x: x[1])\n",
    "    \n",
    "    suspicious_activity = {ip: count for ip, count in failed_logins.items() if count > threshold}\n",
    "    \n",
    "    # Output to terminal\n",
    "    print(\"IP Address           Request Count\")\n",
    "    for ip, count in sorted_ip_requests:\n",
    "        print(f\"{ip:<20} {count}\")\n",
    "    \n",
    "    print(\"\\nMost Frequently Accessed Endpoint:\")\n",
    "    print(f\"{most_accessed_endpoint[0]} (Accessed {most_accessed_endpoint[1]} times)\")\n",
    "    \n",
    "    print(\"\\nSuspicious Activity Detected:\")\n",
    "    print(\"IP Address           Failed Login Attempts\")\n",
    "    for ip, count in suspicious_activity.items():\n",
    "        print(f\"{ip:<20} {count}\")\n",
    "    \n",
    "    # Save to CSV file\n",
    "    with open('log_analysis_results.csv', 'w', newline='') as csvfile:\n",
    "        writer = csv.writer(csvfile)\n",
    "        \n",
    "        # Write Requests per IP\n",
    "        writer.writerow(['IP Address', 'Request Count'])\n",
    "        for ip, count in sorted_ip_requests:\n",
    "            writer.writerow([ip, count])\n",
    "        \n",
    "        # Write Most Accessed Endpoint\n",
    "        writer.writerow([])\n",
    "        writer.writerow(['Endpoint', 'Access Count'])\n",
    "        writer.writerow([most_accessed_endpoint[0], most_accessed_endpoint[1]])\n",
    "        \n",
    "        # Write Suspicious Activity\n",
    "        writer.writerow([])\n",
    "        writer.writerow(['IP Address', 'Failed Login Count'])\n",
    "        for ip, count in suspicious_activity.items():\n",
    "            writer.writerow([ip, count])\n",
    "\n",
    "# Main function to run the script\n",
    "if __name__ == \"__main__\":\n",
    "    log_file = \"C:/Users/Omkar/Downloads/log.csv\"  # Path to the log file\n",
    "    analyze_log(log_file)\n"
   ]
  }
 ],
 "metadata": {
  "kernelspec": {
   "display_name": "Python 3 (ipykernel)",
   "language": "python",
   "name": "python3"
  },
  "language_info": {
   "codemirror_mode": {
    "name": "ipython",
    "version": 3
   },
   "file_extension": ".py",
   "mimetype": "text/x-python",
   "name": "python",
   "nbconvert_exporter": "python",
   "pygments_lexer": "ipython3",
   "version": "3.11.7"
  },
  "widgets": {
   "application/vnd.jupyter.widget-state+json": {
    "state": {},
    "version_major": 2,
    "version_minor": 0
   }
  }
 },
 "nbformat": 4,
 "nbformat_minor": 5
}
